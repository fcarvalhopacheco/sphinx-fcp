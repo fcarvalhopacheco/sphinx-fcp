# Jupyter Notebook Testing!

def say_hello(recipient):
    return 'Hello, {}!'.format(recipient)

say_hello('Hi')