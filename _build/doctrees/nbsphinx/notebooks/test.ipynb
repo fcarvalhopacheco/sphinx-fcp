{
 "cells": [
  {
   "cell_type": "code",
   "execution_count": null,
   "metadata": {},
   "outputs": [],
   "source": [
    "# FUCKKKKK"
   ]
  },
  {
   "cell_type": "code",
   "execution_count": 1,
   "metadata": {},
   "outputs": [],
   "source": [
    "import pandas as pd"
   ]
  },
  {
   "cell_type": "code",
   "execution_count": 2,
   "metadata": {},
   "outputs": [],
   "source": [
    "col_names ={'year':'UTC',\n",
    "            'mo':'UTC',\n",
    "            'day':'UTC',\n",
    "            'hr':'UTC',\n",
    "            'yday':'UTC',\n",
    "            'BPR':'mbar',\n",
    "            'ATMP':'degC',\n",
    "            'STMP':'degC',\n",
    "            'WNDE':'m/s',\n",
    "            'WNDN':'m/s',\n",
    "            'WSPD':'m/s',\n",
    "            'WDIR':'deg',\n",
    "            'RH':'%',\n",
    "            'SRAD':'W/m2',\n",
    "            'LRAD':'W/m2',\n",
    "            'PRC':'mm',\n",
    "            'PRATE':'mm/hr',\n",
    "            'SAL':'l',\n",
    "            'COND':'S/m'}\n",
    "\n"
   ]
  }
 ],
 "metadata": {
  "kernelspec": {
   "display_name": "Python 3",
   "language": "python",
   "name": "python3"
  },
  "language_info": {
   "codemirror_mode": {
    "name": "ipython",
    "version": 3
   },
   "file_extension": ".py",
   "mimetype": "text/x-python",
   "name": "python",
   "nbconvert_exporter": "python",
   "pygments_lexer": "ipython3",
   "version": "3.8.3"
  }
 },
 "nbformat": 4,
 "nbformat_minor": 4
}
